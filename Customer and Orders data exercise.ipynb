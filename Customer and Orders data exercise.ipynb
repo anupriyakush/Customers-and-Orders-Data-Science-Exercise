{
 "cells": [
  {
   "cell_type": "markdown",
   "metadata": {},
   "source": [
    "# Data Science exercise\n",
    "Anupriya Kushwanshi\n",
    "anupriya.kushwanshi@gmail.com"
   ]
  },
  {
   "cell_type": "code",
   "execution_count": 1,
   "metadata": {
    "scrolled": true
   },
   "outputs": [
    {
     "name": "stdout",
     "output_type": "stream",
     "text": [
      "customer_id\tgender\tdate\tvalue\tpredicted_gender\n",
      "1000\t0\t1/1/2017 0:11\t198.5\t1\n",
      "1001\t0\t1/1/2017 0:29\t338.0\t1\n",
      "1002\t1\t1/1/2017 1:30\t733.0\t1\n",
      "1002\t1\t2/19/2017 21:35\t176.0\t1\n",
      "1002\t1\t1/23/2017 4:33\t148.6\t1\n",
      "\n"
     ]
    }
   ],
   "source": [
    "%matplotlib inline\n",
    "import numpy as np\n",
    "import pandas as pd\n",
    "\n",
    "\n",
    "\n",
    "orders = pd.read_csv(\"C:/Users/anupr/Documents/klaviyo_screening_exercise_orders_v201810_kushwanshi_anupriya.csv\",index_col=False)\n",
    "orders = orders.sort_values(by=['customer_id'])\n",
    "\n",
    "print(orders.head().to_csv(sep='\\t', index=False))\n"
   ]
  },
  {
   "cell_type": "markdown",
   "metadata": {},
   "source": [
    "In any dataset, it is a good practice to check for duplicates. Most of the databases around the world are not very clean (or even automated). It depends where the data is coming from. If the system requires the database administrator to populate one or more columns manually, there are very high chabces of redundancy and accuracy.\n",
    "We need all the columns in the dataset for further analysis, hence, I removed duplicates based on all the columns. Removing duplicates only on customer is not ideal as we would lose the information like the frequency of shopping.\n"
   ]
  },
  {
   "cell_type": "code",
   "execution_count": 2,
   "metadata": {},
   "outputs": [
    {
     "data": {
      "text/plain": [
       "13471"
      ]
     },
     "execution_count": 2,
     "metadata": {},
     "output_type": "execute_result"
    }
   ],
   "source": [
    "#studying the number of records\n",
    "\n",
    "old_length = len(orders)\n",
    "old_length"
   ]
  },
  {
   "cell_type": "code",
   "execution_count": 3,
   "metadata": {},
   "outputs": [
    {
     "data": {
      "text/plain": [
       "13467"
      ]
     },
     "execution_count": 3,
     "metadata": {},
     "output_type": "execute_result"
    }
   ],
   "source": [
    "#removing the duplicate values\n",
    "\n",
    "orders_1 = orders.drop_duplicates(keep=False)\n",
    "new_length = len(orders_1)\n",
    "new_length"
   ]
  },
  {
   "cell_type": "code",
   "execution_count": 4,
   "metadata": {},
   "outputs": [
    {
     "name": "stdout",
     "output_type": "stream",
     "text": [
      "There were 4 duplicate rows in the dataframe\n"
     ]
    }
   ],
   "source": [
    "print(\"There were \"+ str(old_length-new_length) + \" duplicate rows in the dataframe\")\n"
   ]
  },
  {
   "cell_type": "code",
   "execution_count": 5,
   "metadata": {},
   "outputs": [
    {
     "data": {
      "text/html": [
       "<div>\n",
       "<style scoped>\n",
       "    .dataframe tbody tr th:only-of-type {\n",
       "        vertical-align: middle;\n",
       "    }\n",
       "\n",
       "    .dataframe tbody tr th {\n",
       "        vertical-align: top;\n",
       "    }\n",
       "\n",
       "    .dataframe thead th {\n",
       "        text-align: right;\n",
       "    }\n",
       "</style>\n",
       "<table border=\"1\" class=\"dataframe\">\n",
       "  <thead>\n",
       "    <tr style=\"text-align: right;\">\n",
       "      <th></th>\n",
       "      <th>customer_id</th>\n",
       "      <th>gender</th>\n",
       "      <th>date</th>\n",
       "      <th>value</th>\n",
       "      <th>predicted_gender</th>\n",
       "    </tr>\n",
       "  </thead>\n",
       "  <tbody>\n",
       "    <tr>\n",
       "      <th>0</th>\n",
       "      <td>1000</td>\n",
       "      <td>0</td>\n",
       "      <td>1/1/2017 0:11</td>\n",
       "      <td>198.5</td>\n",
       "      <td>1</td>\n",
       "    </tr>\n",
       "    <tr>\n",
       "      <th>1</th>\n",
       "      <td>1001</td>\n",
       "      <td>0</td>\n",
       "      <td>1/1/2017 0:29</td>\n",
       "      <td>338.0</td>\n",
       "      <td>1</td>\n",
       "    </tr>\n",
       "    <tr>\n",
       "      <th>2</th>\n",
       "      <td>1002</td>\n",
       "      <td>1</td>\n",
       "      <td>1/1/2017 1:30</td>\n",
       "      <td>733.0</td>\n",
       "      <td>1</td>\n",
       "    </tr>\n",
       "    <tr>\n",
       "      <th>1742</th>\n",
       "      <td>1002</td>\n",
       "      <td>1</td>\n",
       "      <td>2/19/2017 21:35</td>\n",
       "      <td>176.0</td>\n",
       "      <td>1</td>\n",
       "    </tr>\n",
       "    <tr>\n",
       "      <th>928</th>\n",
       "      <td>1002</td>\n",
       "      <td>1</td>\n",
       "      <td>1/23/2017 4:33</td>\n",
       "      <td>148.6</td>\n",
       "      <td>1</td>\n",
       "    </tr>\n",
       "  </tbody>\n",
       "</table>\n",
       "</div>"
      ],
      "text/plain": [
       "      customer_id  gender             date  value  predicted_gender\n",
       "0            1000       0    1/1/2017 0:11  198.5                 1\n",
       "1            1001       0    1/1/2017 0:29  338.0                 1\n",
       "2            1002       1    1/1/2017 1:30  733.0                 1\n",
       "1742         1002       1  2/19/2017 21:35  176.0                 1\n",
       "928          1002       1   1/23/2017 4:33  148.6                 1"
      ]
     },
     "execution_count": 5,
     "metadata": {},
     "output_type": "execute_result"
    }
   ],
   "source": [
    "#first 5 records\n",
    "\n",
    "orders_1.head()"
   ]
  },
  {
   "cell_type": "code",
   "execution_count": 6,
   "metadata": {},
   "outputs": [
    {
     "name": "stdout",
     "output_type": "stream",
     "text": [
      "<class 'pandas.core.frame.DataFrame'>\n",
      "Int64Index: 13467 entries, 0 to 13469\n",
      "Data columns (total 5 columns):\n",
      "customer_id         13467 non-null int64\n",
      "gender              13467 non-null int64\n",
      "date                13467 non-null object\n",
      "value               13467 non-null float64\n",
      "predicted_gender    13467 non-null int64\n",
      "dtypes: float64(1), int64(3), object(1)\n",
      "memory usage: 631.3+ KB\n"
     ]
    }
   ],
   "source": [
    "#reading the datatype of the dataframe\n",
    "\n",
    "orders_1.info()"
   ]
  },
  {
   "cell_type": "markdown",
   "metadata": {},
   "source": [
    "A) Assemble a dataframe with one row per customer and the following columns:\n",
    "    * customer_id\n",
    "    * gender\n",
    "    * most_recent_order_date\n",
    "    * order_count (number of orders placed by this customer)\n",
    "   Sort the dataframe by customer_id ascending and display the first 10 rows."
   ]
  },
  {
   "cell_type": "markdown",
   "metadata": {},
   "source": [
    "Creating a new column to store the order count. To count the order I will count the occurrence of customer id."
   ]
  },
  {
   "cell_type": "code",
   "execution_count": 7,
   "metadata": {},
   "outputs": [
    {
     "data": {
      "text/html": [
       "<div>\n",
       "<style scoped>\n",
       "    .dataframe tbody tr th:only-of-type {\n",
       "        vertical-align: middle;\n",
       "    }\n",
       "\n",
       "    .dataframe tbody tr th {\n",
       "        vertical-align: top;\n",
       "    }\n",
       "\n",
       "    .dataframe thead th {\n",
       "        text-align: right;\n",
       "    }\n",
       "</style>\n",
       "<table border=\"1\" class=\"dataframe\">\n",
       "  <thead>\n",
       "    <tr style=\"text-align: right;\">\n",
       "      <th></th>\n",
       "      <th>gender</th>\n",
       "      <th>most_recent_order_date</th>\n",
       "      <th>order_count</th>\n",
       "    </tr>\n",
       "    <tr>\n",
       "      <th>customer_id</th>\n",
       "      <th></th>\n",
       "      <th></th>\n",
       "      <th></th>\n",
       "    </tr>\n",
       "  </thead>\n",
       "  <tbody>\n",
       "    <tr>\n",
       "      <th>9813</th>\n",
       "      <td>0</td>\n",
       "      <td>12/31/2017 23:11</td>\n",
       "      <td>1</td>\n",
       "    </tr>\n",
       "    <tr>\n",
       "      <th>9812</th>\n",
       "      <td>0</td>\n",
       "      <td>12/31/2017 23:01</td>\n",
       "      <td>1</td>\n",
       "    </tr>\n",
       "    <tr>\n",
       "      <th>9811</th>\n",
       "      <td>1</td>\n",
       "      <td>12/31/2017 22:24</td>\n",
       "      <td>1</td>\n",
       "    </tr>\n",
       "    <tr>\n",
       "      <th>9810</th>\n",
       "      <td>1</td>\n",
       "      <td>12/31/2017 22:16</td>\n",
       "      <td>1</td>\n",
       "    </tr>\n",
       "    <tr>\n",
       "      <th>9809</th>\n",
       "      <td>1</td>\n",
       "      <td>12/31/2017 21:39</td>\n",
       "      <td>1</td>\n",
       "    </tr>\n",
       "    <tr>\n",
       "      <th>9808</th>\n",
       "      <td>1</td>\n",
       "      <td>12/31/2017 21:39</td>\n",
       "      <td>1</td>\n",
       "    </tr>\n",
       "    <tr>\n",
       "      <th>9807</th>\n",
       "      <td>0</td>\n",
       "      <td>12/31/2017 21:24</td>\n",
       "      <td>1</td>\n",
       "    </tr>\n",
       "    <tr>\n",
       "      <th>9806</th>\n",
       "      <td>1</td>\n",
       "      <td>12/31/2017 21:08</td>\n",
       "      <td>1</td>\n",
       "    </tr>\n",
       "    <tr>\n",
       "      <th>9805</th>\n",
       "      <td>1</td>\n",
       "      <td>12/31/2017 20:07</td>\n",
       "      <td>1</td>\n",
       "    </tr>\n",
       "    <tr>\n",
       "      <th>9804</th>\n",
       "      <td>0</td>\n",
       "      <td>12/31/2017 19:49</td>\n",
       "      <td>1</td>\n",
       "    </tr>\n",
       "  </tbody>\n",
       "</table>\n",
       "</div>"
      ],
      "text/plain": [
       "             gender most_recent_order_date  order_count\n",
       "customer_id                                            \n",
       "9813              0       12/31/2017 23:11            1\n",
       "9812              0       12/31/2017 23:01            1\n",
       "9811              1       12/31/2017 22:24            1\n",
       "9810              1       12/31/2017 22:16            1\n",
       "9809              1       12/31/2017 21:39            1\n",
       "9808              1       12/31/2017 21:39            1\n",
       "9807              0       12/31/2017 21:24            1\n",
       "9806              1       12/31/2017 21:08            1\n",
       "9805              1       12/31/2017 20:07            1\n",
       "9804              0       12/31/2017 19:49            1"
      ]
     },
     "execution_count": 7,
     "metadata": {},
     "output_type": "execute_result"
    }
   ],
   "source": [
    "#Grouping the table as per different aggregate functions to be applied on different columns\n",
    "\n",
    "grouped_table=orders_1.groupby('customer_id').aggregate({ 'gender':np.mean, 'date':np.max, 'customer_id':np.count_nonzero})\n",
    "grouped_table = grouped_table.rename(columns={\"customer_id\": \"order_count\", \"date\":\"most_recent_order_date\"})\n",
    "\n",
    "#sorting the dataframe\n",
    "grouped_table = grouped_table.sort_values(by=['customer_id'], ascending=False)\n",
    "grouped_table.head(10)"
   ]
  },
  {
   "cell_type": "code",
   "execution_count": 8,
   "metadata": {},
   "outputs": [
    {
     "data": {
      "text/html": [
       "<div>\n",
       "<style scoped>\n",
       "    .dataframe tbody tr th:only-of-type {\n",
       "        vertical-align: middle;\n",
       "    }\n",
       "\n",
       "    .dataframe tbody tr th {\n",
       "        vertical-align: top;\n",
       "    }\n",
       "\n",
       "    .dataframe thead th {\n",
       "        text-align: right;\n",
       "    }\n",
       "</style>\n",
       "<table border=\"1\" class=\"dataframe\">\n",
       "  <thead>\n",
       "    <tr style=\"text-align: right;\">\n",
       "      <th></th>\n",
       "      <th>gender</th>\n",
       "      <th>most_recent_order_date</th>\n",
       "      <th>order_count</th>\n",
       "    </tr>\n",
       "    <tr>\n",
       "      <th>customer_id</th>\n",
       "      <th></th>\n",
       "      <th></th>\n",
       "      <th></th>\n",
       "    </tr>\n",
       "  </thead>\n",
       "  <tbody>\n",
       "    <tr>\n",
       "      <th>9813</th>\n",
       "      <td>0</td>\n",
       "      <td>2017-12-31</td>\n",
       "      <td>1</td>\n",
       "    </tr>\n",
       "    <tr>\n",
       "      <th>9812</th>\n",
       "      <td>0</td>\n",
       "      <td>2017-12-31</td>\n",
       "      <td>1</td>\n",
       "    </tr>\n",
       "    <tr>\n",
       "      <th>9811</th>\n",
       "      <td>1</td>\n",
       "      <td>2017-12-31</td>\n",
       "      <td>1</td>\n",
       "    </tr>\n",
       "    <tr>\n",
       "      <th>9810</th>\n",
       "      <td>1</td>\n",
       "      <td>2017-12-31</td>\n",
       "      <td>1</td>\n",
       "    </tr>\n",
       "    <tr>\n",
       "      <th>9809</th>\n",
       "      <td>1</td>\n",
       "      <td>2017-12-31</td>\n",
       "      <td>1</td>\n",
       "    </tr>\n",
       "    <tr>\n",
       "      <th>9808</th>\n",
       "      <td>1</td>\n",
       "      <td>2017-12-31</td>\n",
       "      <td>1</td>\n",
       "    </tr>\n",
       "    <tr>\n",
       "      <th>9807</th>\n",
       "      <td>0</td>\n",
       "      <td>2017-12-31</td>\n",
       "      <td>1</td>\n",
       "    </tr>\n",
       "    <tr>\n",
       "      <th>9806</th>\n",
       "      <td>1</td>\n",
       "      <td>2017-12-31</td>\n",
       "      <td>1</td>\n",
       "    </tr>\n",
       "    <tr>\n",
       "      <th>9805</th>\n",
       "      <td>1</td>\n",
       "      <td>2017-12-31</td>\n",
       "      <td>1</td>\n",
       "    </tr>\n",
       "    <tr>\n",
       "      <th>9804</th>\n",
       "      <td>0</td>\n",
       "      <td>2017-12-31</td>\n",
       "      <td>1</td>\n",
       "    </tr>\n",
       "  </tbody>\n",
       "</table>\n",
       "</div>"
      ],
      "text/plain": [
       "             gender most_recent_order_date  order_count\n",
       "customer_id                                            \n",
       "9813              0             2017-12-31            1\n",
       "9812              0             2017-12-31            1\n",
       "9811              1             2017-12-31            1\n",
       "9810              1             2017-12-31            1\n",
       "9809              1             2017-12-31            1\n",
       "9808              1             2017-12-31            1\n",
       "9807              0             2017-12-31            1\n",
       "9806              1             2017-12-31            1\n",
       "9805              1             2017-12-31            1\n",
       "9804              0             2017-12-31            1"
      ]
     },
     "execution_count": 8,
     "metadata": {},
     "output_type": "execute_result"
    }
   ],
   "source": [
    "#Changing the datetime format to date\n",
    "\n",
    "grouped_table[\"most_recent_order_date\"] = pd.to_datetime(grouped_table[\"most_recent_order_date\"]).dt.date\n",
    "grouped_table.head(10)\n"
   ]
  },
  {
   "cell_type": "markdown",
   "metadata": {},
   "source": [
    "B) Plot the count of orders per week for the store.\n"
   ]
  },
  {
   "cell_type": "code",
   "execution_count": 15,
   "metadata": {},
   "outputs": [
    {
     "data": {
      "text/html": [
       "<div>\n",
       "<style scoped>\n",
       "    .dataframe tbody tr th:only-of-type {\n",
       "        vertical-align: middle;\n",
       "    }\n",
       "\n",
       "    .dataframe tbody tr th {\n",
       "        vertical-align: top;\n",
       "    }\n",
       "\n",
       "    .dataframe thead th {\n",
       "        text-align: right;\n",
       "    }\n",
       "</style>\n",
       "<table border=\"1\" class=\"dataframe\">\n",
       "  <thead>\n",
       "    <tr style=\"text-align: right;\">\n",
       "      <th></th>\n",
       "      <th>customer_id</th>\n",
       "      <th>gender</th>\n",
       "      <th>date</th>\n",
       "      <th>value</th>\n",
       "      <th>predicted_gender</th>\n",
       "      <th>Week_Number</th>\n",
       "    </tr>\n",
       "  </thead>\n",
       "  <tbody>\n",
       "    <tr>\n",
       "      <th>0</th>\n",
       "      <td>1000</td>\n",
       "      <td>0</td>\n",
       "      <td>1/1/2017 0:11</td>\n",
       "      <td>198.5</td>\n",
       "      <td>1</td>\n",
       "      <td>01</td>\n",
       "    </tr>\n",
       "    <tr>\n",
       "      <th>1</th>\n",
       "      <td>1001</td>\n",
       "      <td>0</td>\n",
       "      <td>1/1/2017 0:29</td>\n",
       "      <td>338.0</td>\n",
       "      <td>1</td>\n",
       "      <td>01</td>\n",
       "    </tr>\n",
       "    <tr>\n",
       "      <th>2</th>\n",
       "      <td>1002</td>\n",
       "      <td>1</td>\n",
       "      <td>1/1/2017 1:30</td>\n",
       "      <td>733.0</td>\n",
       "      <td>1</td>\n",
       "      <td>01</td>\n",
       "    </tr>\n",
       "    <tr>\n",
       "      <th>1742</th>\n",
       "      <td>1002</td>\n",
       "      <td>1</td>\n",
       "      <td>2/19/2017 21:35</td>\n",
       "      <td>176.0</td>\n",
       "      <td>1</td>\n",
       "      <td>08</td>\n",
       "    </tr>\n",
       "    <tr>\n",
       "      <th>928</th>\n",
       "      <td>1002</td>\n",
       "      <td>1</td>\n",
       "      <td>1/23/2017 4:33</td>\n",
       "      <td>148.6</td>\n",
       "      <td>1</td>\n",
       "      <td>04</td>\n",
       "    </tr>\n",
       "  </tbody>\n",
       "</table>\n",
       "</div>"
      ],
      "text/plain": [
       "      customer_id  gender             date  value  predicted_gender  \\\n",
       "0            1000       0    1/1/2017 0:11  198.5                 1   \n",
       "1            1001       0    1/1/2017 0:29  338.0                 1   \n",
       "2            1002       1    1/1/2017 1:30  733.0                 1   \n",
       "1742         1002       1  2/19/2017 21:35  176.0                 1   \n",
       "928          1002       1   1/23/2017 4:33  148.6                 1   \n",
       "\n",
       "     Week_Number  \n",
       "0             01  \n",
       "1             01  \n",
       "2             01  \n",
       "1742          08  \n",
       "928           04  "
      ]
     },
     "execution_count": 15,
     "metadata": {},
     "output_type": "execute_result"
    }
   ],
   "source": [
    "#adding a column for weeks\n",
    "\n",
    "orders_1['Week_Number'] = pd.to_datetime(orders_1['date']).dt.strftime('%U')\n",
    "orders_1['Week_Number']\n",
    "orders_2 = orders_1.sort_values(by=['customer_id'])\n",
    "orders_2.head()"
   ]
  },
  {
   "cell_type": "code",
   "execution_count": 41,
   "metadata": {},
   "outputs": [
    {
     "data": {
      "text/html": [
       "<div>\n",
       "<style scoped>\n",
       "    .dataframe tbody tr th:only-of-type {\n",
       "        vertical-align: middle;\n",
       "    }\n",
       "\n",
       "    .dataframe tbody tr th {\n",
       "        vertical-align: top;\n",
       "    }\n",
       "\n",
       "    .dataframe thead th {\n",
       "        text-align: right;\n",
       "    }\n",
       "</style>\n",
       "<table border=\"1\" class=\"dataframe\">\n",
       "  <thead>\n",
       "    <tr style=\"text-align: right;\">\n",
       "      <th></th>\n",
       "      <th>Week_Number</th>\n",
       "      <th>order_count_wk</th>\n",
       "    </tr>\n",
       "  </thead>\n",
       "  <tbody>\n",
       "    <tr>\n",
       "      <th>0</th>\n",
       "      <td>01</td>\n",
       "      <td>175</td>\n",
       "    </tr>\n",
       "    <tr>\n",
       "      <th>1</th>\n",
       "      <td>02</td>\n",
       "      <td>259</td>\n",
       "    </tr>\n",
       "    <tr>\n",
       "      <th>2</th>\n",
       "      <td>03</td>\n",
       "      <td>356</td>\n",
       "    </tr>\n",
       "    <tr>\n",
       "      <th>3</th>\n",
       "      <td>04</td>\n",
       "      <td>287</td>\n",
       "    </tr>\n",
       "    <tr>\n",
       "      <th>4</th>\n",
       "      <td>05</td>\n",
       "      <td>209</td>\n",
       "    </tr>\n",
       "  </tbody>\n",
       "</table>\n",
       "</div>"
      ],
      "text/plain": [
       "  Week_Number  order_count_wk\n",
       "0          01             175\n",
       "1          02             259\n",
       "2          03             356\n",
       "3          04             287\n",
       "4          05             209"
      ]
     },
     "execution_count": 41,
     "metadata": {},
     "output_type": "execute_result"
    }
   ],
   "source": [
    "grouped_table_week=orders_2.groupby('Week_Number', as_index=False).aggregate({ 'customer_id':np.count_nonzero})\n",
    "grouped_table_week = grouped_table_week.rename(columns={\"customer_id\": \"order_count_wk\"})\n",
    "grouped_table_week = pd.DataFrame(grouped_table_week)\n",
    "grouped_table_week.head()\n"
   ]
  },
  {
   "cell_type": "code",
   "execution_count": 258,
   "metadata": {},
   "outputs": [
    {
     "name": "stdout",
     "output_type": "stream",
     "text": [
      "Average number of orders :254.0943396226415\n"
     ]
    },
    {
     "data": {
      "text/plain": [
       "<function matplotlib.pyplot.show(*args, **kw)>"
      ]
     },
     "execution_count": 258,
     "metadata": {},
     "output_type": "execute_result"
    },
    {
     "data": {
      "image/png": "[encoded data removed]",
      "text/plain": [
       "<Figure size 1152x595.44 with 1 Axes>"
      ]
     },
     "metadata": {},
     "output_type": "display_data"
    }
   ],
   "source": [
    "#plotting order count per week\n",
    "\n",
    "import seaborn as sns\n",
    "import matplotlib.pyplot as plt\n",
    "sns.set(rc={'figure.figsize':(16,8.27)})\n",
    "ax = sns.lineplot(x=\"Week_Number\", y=\"order_count_wk\", data=grouped_table_week, color='green')\n",
    "ax.set(xlabel='Week', ylabel='Orders')\n",
    "mean = grouped_table_week[\"order_count_wk\"].mean()\n",
    "print(\"Average number of orders :\"+str(mean))\n",
    "plt.title('Orders placed per week',  weight='bold').set_fontsize('18')\n",
    "#adding average line\n",
    "ax.axhline(mean)\n",
    "ax.text\n",
    "plt.show"
   ]
  },
  {
   "cell_type": "code",
   "execution_count": 153,
   "metadata": {},
   "outputs": [
    {
     "data": {
      "text/html": [
       "<div>\n",
       "<style scoped>\n",
       "    .dataframe tbody tr th:only-of-type {\n",
       "        vertical-align: middle;\n",
       "    }\n",
       "\n",
       "    .dataframe tbody tr th {\n",
       "        vertical-align: top;\n",
       "    }\n",
       "\n",
       "    .dataframe thead th {\n",
       "        text-align: right;\n",
       "    }\n",
       "</style>\n",
       "<table border=\"1\" class=\"dataframe\">\n",
       "  <thead>\n",
       "    <tr style=\"text-align: right;\">\n",
       "      <th></th>\n",
       "      <th>Week_Number</th>\n",
       "      <th>order_count_wk</th>\n",
       "    </tr>\n",
       "  </thead>\n",
       "  <tbody>\n",
       "    <tr>\n",
       "      <th>19</th>\n",
       "      <td>20</td>\n",
       "      <td>554</td>\n",
       "    </tr>\n",
       "    <tr>\n",
       "      <th>40</th>\n",
       "      <td>41</td>\n",
       "      <td>411</td>\n",
       "    </tr>\n",
       "    <tr>\n",
       "      <th>47</th>\n",
       "      <td>48</td>\n",
       "      <td>395</td>\n",
       "    </tr>\n",
       "    <tr>\n",
       "      <th>20</th>\n",
       "      <td>21</td>\n",
       "      <td>392</td>\n",
       "    </tr>\n",
       "    <tr>\n",
       "      <th>25</th>\n",
       "      <td>26</td>\n",
       "      <td>359</td>\n",
       "    </tr>\n",
       "  </tbody>\n",
       "</table>\n",
       "</div>"
      ],
      "text/plain": [
       "   Week_Number  order_count_wk\n",
       "19          20             554\n",
       "40          41             411\n",
       "47          48             395\n",
       "20          21             392\n",
       "25          26             359"
      ]
     },
     "execution_count": 153,
     "metadata": {},
     "output_type": "execute_result"
    }
   ],
   "source": [
    "# five largest values in column order count \n",
    "max_5 = grouped_table_week.nlargest(5, ['order_count_wk'])\n",
    "max_5"
   ]
  },
  {
   "cell_type": "code",
   "execution_count": 152,
   "metadata": {},
   "outputs": [
    {
     "data": {
      "text/html": [
       "<div>\n",
       "<style scoped>\n",
       "    .dataframe tbody tr th:only-of-type {\n",
       "        vertical-align: middle;\n",
       "    }\n",
       "\n",
       "    .dataframe tbody tr th {\n",
       "        vertical-align: top;\n",
       "    }\n",
       "\n",
       "    .dataframe thead th {\n",
       "        text-align: right;\n",
       "    }\n",
       "</style>\n",
       "<table border=\"1\" class=\"dataframe\">\n",
       "  <thead>\n",
       "    <tr style=\"text-align: right;\">\n",
       "      <th></th>\n",
       "      <th>Week_Number</th>\n",
       "      <th>order_count_wk</th>\n",
       "    </tr>\n",
       "  </thead>\n",
       "  <tbody>\n",
       "    <tr>\n",
       "      <th>52</th>\n",
       "      <td>53</td>\n",
       "      <td>35</td>\n",
       "    </tr>\n",
       "    <tr>\n",
       "      <th>42</th>\n",
       "      <td>43</td>\n",
       "      <td>150</td>\n",
       "    </tr>\n",
       "    <tr>\n",
       "      <th>43</th>\n",
       "      <td>44</td>\n",
       "      <td>159</td>\n",
       "    </tr>\n",
       "    <tr>\n",
       "      <th>37</th>\n",
       "      <td>38</td>\n",
       "      <td>170</td>\n",
       "    </tr>\n",
       "    <tr>\n",
       "      <th>0</th>\n",
       "      <td>01</td>\n",
       "      <td>175</td>\n",
       "    </tr>\n",
       "  </tbody>\n",
       "</table>\n",
       "</div>"
      ],
      "text/plain": [
       "   Week_Number  order_count_wk\n",
       "52          53              35\n",
       "42          43             150\n",
       "43          44             159\n",
       "37          38             170\n",
       "0           01             175"
      ]
     },
     "execution_count": 152,
     "metadata": {},
     "output_type": "execute_result"
    }
   ],
   "source": [
    "# five smallest values in column order count \n",
    "min_5 = grouped_table_week.nsmallest(5, ['order_count_wk'])\n",
    "min_5"
   ]
  },
  {
   "cell_type": "code",
   "execution_count": 180,
   "metadata": {},
   "outputs": [
    {
     "data": {
      "text/html": [
       "<div>\n",
       "<style scoped>\n",
       "    .dataframe tbody tr th:only-of-type {\n",
       "        vertical-align: middle;\n",
       "    }\n",
       "\n",
       "    .dataframe tbody tr th {\n",
       "        vertical-align: top;\n",
       "    }\n",
       "\n",
       "    .dataframe thead th {\n",
       "        text-align: right;\n",
       "    }\n",
       "</style>\n",
       "<table border=\"1\" class=\"dataframe\">\n",
       "  <thead>\n",
       "    <tr style=\"text-align: right;\">\n",
       "      <th></th>\n",
       "      <th>Week_Number</th>\n",
       "      <th>order_count_wk</th>\n",
       "    </tr>\n",
       "  </thead>\n",
       "  <tbody>\n",
       "    <tr>\n",
       "      <th>19</th>\n",
       "      <td>20</td>\n",
       "      <td>554</td>\n",
       "    </tr>\n",
       "    <tr>\n",
       "      <th>40</th>\n",
       "      <td>41</td>\n",
       "      <td>411</td>\n",
       "    </tr>\n",
       "    <tr>\n",
       "      <th>47</th>\n",
       "      <td>48</td>\n",
       "      <td>395</td>\n",
       "    </tr>\n",
       "    <tr>\n",
       "      <th>20</th>\n",
       "      <td>21</td>\n",
       "      <td>392</td>\n",
       "    </tr>\n",
       "    <tr>\n",
       "      <th>25</th>\n",
       "      <td>26</td>\n",
       "      <td>359</td>\n",
       "    </tr>\n",
       "    <tr>\n",
       "      <th>0</th>\n",
       "      <td>01</td>\n",
       "      <td>175</td>\n",
       "    </tr>\n",
       "    <tr>\n",
       "      <th>37</th>\n",
       "      <td>38</td>\n",
       "      <td>170</td>\n",
       "    </tr>\n",
       "    <tr>\n",
       "      <th>43</th>\n",
       "      <td>44</td>\n",
       "      <td>159</td>\n",
       "    </tr>\n",
       "    <tr>\n",
       "      <th>42</th>\n",
       "      <td>43</td>\n",
       "      <td>150</td>\n",
       "    </tr>\n",
       "    <tr>\n",
       "      <th>52</th>\n",
       "      <td>53</td>\n",
       "      <td>35</td>\n",
       "    </tr>\n",
       "  </tbody>\n",
       "</table>\n",
       "</div>"
      ],
      "text/plain": [
       "   Week_Number  order_count_wk\n",
       "19          20             554\n",
       "40          41             411\n",
       "47          48             395\n",
       "20          21             392\n",
       "25          26             359\n",
       "0           01             175\n",
       "37          38             170\n",
       "43          44             159\n",
       "42          43             150\n",
       "52          53              35"
      ]
     },
     "execution_count": 180,
     "metadata": {},
     "output_type": "execute_result"
    }
   ],
   "source": [
    "#joining max and min 5 orders\n",
    "max_min_5 = max_5.append(min_5).sort_values(by = \"order_count_wk\", ascending=False)\n",
    "max_min_5"
   ]
  },
  {
   "cell_type": "code",
   "execution_count": 184,
   "metadata": {},
   "outputs": [
    {
     "data": {
      "image/png": "[encoded data removed]",
      "text/plain": [
       "<Figure size 1152x595.44 with 1 Axes>"
      ]
     },
     "metadata": {},
     "output_type": "display_data"
    }
   ],
   "source": [
    "\n",
    "ax = sns.barplot(x=\"Week_Number\", y=\"order_count_wk\", data=max_min_5, color='green', order = max_min_5[\"Week_Number\"], palette=(\"Blues_d\"))\n",
    "ax.set(xlabel='Week', ylabel='Orders')\n",
    "plt.title('Top and Bottom 5 order count',  weight='bold').set_fontsize('18')\n",
    "\n",
    "# annotate bars with values \n",
    "for p in ax.patches: \n",
    "    ax.annotate(np.round(p.get_height(),decimals=2), \n",
    "                                 (p.get_x()+p.get_width()/2., p.get_height()), \n",
    "                                 ha='center', va='center', xytext=(0, 10), \n",
    "                                 textcoords='offset points')"
   ]
  },
  {
   "cell_type": "markdown",
   "metadata": {},
   "source": [
    "Week #20 has the highest while week 53 has the lowest orders. "
   ]
  },
  {
   "cell_type": "markdown",
   "metadata": {},
   "source": [
    "C) Compute the mean order value for gender 0 and for gender 1. Do you think the difference is significant?\n"
   ]
  },
  {
   "cell_type": "code",
   "execution_count": 243,
   "metadata": {},
   "outputs": [
    {
     "data": {
      "text/html": [
       "<div>\n",
       "<style scoped>\n",
       "    .dataframe tbody tr th:only-of-type {\n",
       "        vertical-align: middle;\n",
       "    }\n",
       "\n",
       "    .dataframe tbody tr th {\n",
       "        vertical-align: top;\n",
       "    }\n",
       "\n",
       "    .dataframe thead th {\n",
       "        text-align: right;\n",
       "    }\n",
       "</style>\n",
       "<table border=\"1\" class=\"dataframe\">\n",
       "  <thead>\n",
       "    <tr style=\"text-align: right;\">\n",
       "      <th></th>\n",
       "      <th>customer_id</th>\n",
       "      <th>gender</th>\n",
       "      <th>date</th>\n",
       "      <th>value</th>\n",
       "      <th>predicted_gender</th>\n",
       "      <th>Week_Number</th>\n",
       "    </tr>\n",
       "  </thead>\n",
       "  <tbody>\n",
       "    <tr>\n",
       "      <th>0</th>\n",
       "      <td>1000</td>\n",
       "      <td>0</td>\n",
       "      <td>1/1/2017 0:11</td>\n",
       "      <td>198.50</td>\n",
       "      <td>1</td>\n",
       "      <td>01</td>\n",
       "    </tr>\n",
       "    <tr>\n",
       "      <th>1</th>\n",
       "      <td>1001</td>\n",
       "      <td>0</td>\n",
       "      <td>1/1/2017 0:29</td>\n",
       "      <td>338.00</td>\n",
       "      <td>1</td>\n",
       "      <td>01</td>\n",
       "    </tr>\n",
       "    <tr>\n",
       "      <th>4</th>\n",
       "      <td>1004</td>\n",
       "      <td>0</td>\n",
       "      <td>1/1/2017 3:11</td>\n",
       "      <td>508.00</td>\n",
       "      <td>1</td>\n",
       "      <td>01</td>\n",
       "    </tr>\n",
       "    <tr>\n",
       "      <th>7</th>\n",
       "      <td>1007</td>\n",
       "      <td>0</td>\n",
       "      <td>1/1/2017 15:59</td>\n",
       "      <td>168.00</td>\n",
       "      <td>0</td>\n",
       "      <td>01</td>\n",
       "    </tr>\n",
       "    <tr>\n",
       "      <th>57</th>\n",
       "      <td>1008</td>\n",
       "      <td>0</td>\n",
       "      <td>1/3/2017 19:23</td>\n",
       "      <td>121.98</td>\n",
       "      <td>0</td>\n",
       "      <td>01</td>\n",
       "    </tr>\n",
       "  </tbody>\n",
       "</table>\n",
       "</div>"
      ],
      "text/plain": [
       "    customer_id  gender            date   value  predicted_gender Week_Number\n",
       "0          1000       0   1/1/2017 0:11  198.50                 1          01\n",
       "1          1001       0   1/1/2017 0:29  338.00                 1          01\n",
       "4          1004       0   1/1/2017 3:11  508.00                 1          01\n",
       "7          1007       0  1/1/2017 15:59  168.00                 0          01\n",
       "57         1008       0  1/3/2017 19:23  121.98                 0          01"
      ]
     },
     "execution_count": 243,
     "metadata": {},
     "output_type": "execute_result"
    }
   ],
   "source": [
    "# filtering the records based on gender\n",
    "\n",
    "gender_0 =  orders_1[orders_1['gender']==0]\n",
    "gender_1 =  orders_1[orders_1['gender']==1]\n",
    "gender_0.head()\n"
   ]
  },
  {
   "cell_type": "code",
   "execution_count": 245,
   "metadata": {},
   "outputs": [
    {
     "name": "stdout",
     "output_type": "stream",
     "text": [
      "Mean order value for gender 0 = 363.602271718218 and standard deviation =396.238949457487\n",
      "Mean order value for gender 1 = 350.675019374069 and standard deviation =377.556060303573\n"
     ]
    }
   ],
   "source": [
    "#mean order value for gender 0\n",
    "\n",
    "print(\"Mean order value for gender 0 = \"+str(round(gender_0['value'].mean(),12))+\" and standard deviation =\"+str(round(gender_0['value'].std(),12)))\n",
    "print(\"Mean order value for gender 1 = \"+str(round(gender_1['value'].mean(),12))+\" and standard deviation =\"+str(round(gender_1['value'].std(),12)))"
   ]
  },
  {
   "cell_type": "code",
   "execution_count": 246,
   "metadata": {},
   "outputs": [
    {
     "name": "stdout",
     "output_type": "stream",
     "text": [
      "Difference between the mean values of gender 1 and 0 = 12.92725234415\n"
     ]
    }
   ],
   "source": [
    "#Difference between the mean value\n",
    "print(\"Difference between the mean values of gender 1 and 0 = \"+str(round(gender_0['value'].mean()-gender_1['value'].mean(),12)))"
   ]
  },
  {
   "cell_type": "code",
   "execution_count": 247,
   "metadata": {},
   "outputs": [
    {
     "name": "stderr",
     "output_type": "stream",
     "text": [
      "C:\\Users\\anupr\\Anaconda3\\lib\\site-packages\\scipy\\stats\\morestats.py:1309: UserWarning: p-value may not be accurate for N > 5000.\n",
      "  warnings.warn(\"p-value may not be accurate for N > 5000.\")\n",
      "C:\\Users\\anupr\\Anaconda3\\lib\\site-packages\\scipy\\stats\\stats.py:1713: FutureWarning: Using a non-tuple sequence for multidimensional indexing is deprecated; use `arr[tuple(seq)]` instead of `arr[seq]`. In the future this will be interpreted as an array index, `arr[np.array(seq)]`, which will result either in an error or a different result.\n",
      "  return np.add.reduce(sorted[indexer] * weights, axis=axis) / sumval\n"
     ]
    },
    {
     "name": "stdout",
     "output_type": "stream",
     "text": [
      "Statistics=0.656, p=0.000\n",
      "The data is not normally distributed\n"
     ]
    },
    {
     "data": {
      "image/png": "[encoded data removed]",
      "text/plain": [
       "<Figure size 720x432 with 1 Axes>"
      ]
     },
     "metadata": {},
     "output_type": "display_data"
    },
    {
     "data": {
      "image/png": "[encoded data removed]",
      "text/plain": [
       "<Figure size 720x432 with 1 Axes>"
      ]
     },
     "metadata": {},
     "output_type": "display_data"
    }
   ],
   "source": [
    "#Distribution of gender_0\n",
    "from scipy.stats import shapiro\n",
    "\n",
    "# Statistical Normality Tests – Shapiro-Wilk Test\n",
    "stat, p = shapiro(gender_0['value'])\n",
    "print('Statistics=%.3f, p=%.3f' % (stat, p))\n",
    "alpha = 0.05\n",
    "if p > alpha:\n",
    "    print('Normal Distribution')\n",
    "else:\n",
    "    print('The data is not normally distributed')\n",
    "sns.set(rc={'figure.figsize':(10,6)})\n",
    "\n",
    "sns.distplot(gender_0['value']);\n",
    "# q-q plot\n",
    "from statsmodels.graphics.gofplots import qqplot\n",
    "\n",
    "qqplot(gender_0['value'], line='s')\n",
    "plt.show()\n"
   ]
  },
  {
   "cell_type": "code",
   "execution_count": 248,
   "metadata": {},
   "outputs": [
    {
     "name": "stderr",
     "output_type": "stream",
     "text": [
      "C:\\Users\\anupr\\Anaconda3\\lib\\site-packages\\scipy\\stats\\morestats.py:1309: UserWarning: p-value may not be accurate for N > 5000.\n",
      "  warnings.warn(\"p-value may not be accurate for N > 5000.\")\n",
      "C:\\Users\\anupr\\Anaconda3\\lib\\site-packages\\scipy\\stats\\stats.py:1713: FutureWarning: Using a non-tuple sequence for multidimensional indexing is deprecated; use `arr[tuple(seq)]` instead of `arr[seq]`. In the future this will be interpreted as an array index, `arr[np.array(seq)]`, which will result either in an error or a different result.\n",
      "  return np.add.reduce(sorted[indexer] * weights, axis=axis) / sumval\n"
     ]
    },
    {
     "name": "stdout",
     "output_type": "stream",
     "text": [
      "Statistics=0.641, p=0.000\n",
      "The data is not normally distributed\n"
     ]
    },
    {
     "data": {
      "image/png": "[encoded data removed]",
      "text/plain": [
       "<Figure size 720x432 with 1 Axes>"
      ]
     },
     "metadata": {},
     "output_type": "display_data"
    },
    {
     "data": {
      "image/png": "[encoded data removed]",
      "text/plain": [
       "<Figure size 720x432 with 1 Axes>"
      ]
     },
     "metadata": {},
     "output_type": "display_data"
    }
   ],
   "source": [
    "#Distribution of gender_1\n",
    "from scipy.stats import shapiro\n",
    "\n",
    "# Statistical Normality Tests – Shapiro-Wilk Test\n",
    "stat, p = shapiro(gender_1['value'])\n",
    "print('Statistics=%.3f, p=%.3f' % (stat, p))\n",
    "alpha = 0.05\n",
    "if p > alpha:\n",
    "    print('Normal Distribution')\n",
    "else:\n",
    "    print('The data is not normally distributed')\n",
    "sns.set(rc={'figure.figsize':(10,6)})\n",
    "\n",
    "sns.distplot(gender_1['value']);\n",
    "# q-q plot\n",
    "from statsmodels.graphics.gofplots import qqplot\n",
    "\n",
    "qqplot(gender_1['value'], line='s')\n",
    "plt.show()"
   ]
  },
  {
   "cell_type": "markdown",
   "metadata": {},
   "source": []
  },
  {
   "cell_type": "markdown",
   "metadata": {},
   "source": [
    "To find out if the difference is significant, I would use a hypothesis test. For a significance level of 5%, if the p-value falls lower than 5%, the null hypothesis is invalidated. However, it can be seen that the distribution is highly skewed. We would be concerned about using the t-test for such data, as the t-test assumes the data is normally distributed. Although our sample size is big enough, the skewness can be seen. \n",
    "The t-test is invalid for small samples(A sample size of 30 serves as a rule of thumb) from non-normal distributions, but it is valid for large samples from non-normal distributions. I chose to go with Welch's t-test. \n"
   ]
  },
  {
   "cell_type": "markdown",
   "metadata": {},
   "source": [
    "Welch’s t-test is a nonparametric univariate test that tests for a significant difference between the mean of two unrelated groups\n",
    "Null hypothesis (H0): there is no significant difference between the means of the two samples\n",
    "Alternative hypothesis (HA): there is a significant difference between the means of the two samples\n",
    "If the p-value is less 0.05, we can reject the null hypothesis.\n",
    "\n"
   ]
  },
  {
   "cell_type": "code",
   "execution_count": 253,
   "metadata": {},
   "outputs": [
    {
     "data": {
      "text/plain": [
       "Ttest_indResult(statistic=-1.9379829852367747, pvalue=0.052646176919475346)"
      ]
     },
     "execution_count": 253,
     "metadata": {},
     "output_type": "execute_result"
    }
   ],
   "source": [
    "#Welch's t-test\n",
    "\n",
    "from scipy import stats\n",
    "stats.ttest_ind(gender_1['value'], gender_0['value'])\n"
   ]
  },
  {
   "cell_type": "markdown",
   "metadata": {},
   "source": [
    "The p-value is significant, therefore we can reject the null hypothesis in support of the alternative. The difference is significant.\n",
    "\n"
   ]
  },
  {
   "cell_type": "markdown",
   "metadata": {},
   "source": [
    "D) Assuming a single gender prediction was made for each customer, generate a confusion matrix for predicted gender. What does the confusion matrix tell you about the quality of the predictions?\n"
   ]
  },
  {
   "cell_type": "code",
   "execution_count": 294,
   "metadata": {},
   "outputs": [
    {
     "name": "stdout",
     "output_type": "stream",
     "text": [
      "Predicted     0     1\n",
      "Actual               \n",
      "0          3347  3410\n",
      "1          1463  5247\n"
     ]
    }
   ],
   "source": [
    "from sklearn.metrics import confusion_matrix \n",
    "from sklearn.metrics import accuracy_score \n",
    "\n",
    "\n",
    "confusion_matrix = pd.crosstab(orders_1[\"gender\"], orders_1[\"predicted_gender\"], rownames=['Actual'], colnames=['Predicted'])\n",
    "print (confusion_matrix)\n"
   ]
  },
  {
   "cell_type": "markdown",
   "metadata": {},
   "source": [
    "To see if the accuracy is a good measure, I checked the ditribution of 1 and 0. For example, if out of 100 records, there are 90 1s and 10 0s, even when the gender of all the 0s are misclassified as 1 the accuracy would still be 90%. But in reality, the model would not be a good one as it has 100% rate of mislassifying the gender 0."
   ]
  },
  {
   "cell_type": "code",
   "execution_count": 314,
   "metadata": {},
   "outputs": [
    {
     "data": {
      "text/html": [
       "<div>\n",
       "<style scoped>\n",
       "    .dataframe tbody tr th:only-of-type {\n",
       "        vertical-align: middle;\n",
       "    }\n",
       "\n",
       "    .dataframe tbody tr th {\n",
       "        vertical-align: top;\n",
       "    }\n",
       "\n",
       "    .dataframe thead th {\n",
       "        text-align: right;\n",
       "    }\n",
       "</style>\n",
       "<table border=\"1\" class=\"dataframe\">\n",
       "  <thead>\n",
       "    <tr style=\"text-align: right;\">\n",
       "      <th></th>\n",
       "      <th>gender</th>\n",
       "      <th>count</th>\n",
       "    </tr>\n",
       "  </thead>\n",
       "  <tbody>\n",
       "    <tr>\n",
       "      <th>0</th>\n",
       "      <td>0</td>\n",
       "      <td>6757</td>\n",
       "    </tr>\n",
       "    <tr>\n",
       "      <th>1</th>\n",
       "      <td>1</td>\n",
       "      <td>6710</td>\n",
       "    </tr>\n",
       "  </tbody>\n",
       "</table>\n",
       "</div>"
      ],
      "text/plain": [
       "   gender  count\n",
       "0       0   6757\n",
       "1       1   6710"
      ]
     },
     "execution_count": 314,
     "metadata": {},
     "output_type": "execute_result"
    }
   ],
   "source": [
    "#frequency of each gender\n",
    "gender_count=orders_1.groupby('gender', as_index=False).aggregate({ 'customer_id':np.count_nonzero})\n",
    "gender_count = gender_count.rename(columns={\"customer_id\": \"count\"})\n",
    "\n",
    "gender_count"
   ]
  },
  {
   "cell_type": "code",
   "execution_count": 354,
   "metadata": {},
   "outputs": [
    {
     "data": {
      "text/plain": [
       "1.0070044709388972"
      ]
     },
     "execution_count": 354,
     "metadata": {},
     "output_type": "execute_result"
    }
   ],
   "source": [
    "#ratio of counts\n",
    "6757/6710"
   ]
  },
  {
   "cell_type": "markdown",
   "metadata": {},
   "source": [
    "The ratio is almost 1. Hence, accurracy is a good measure."
   ]
  },
  {
   "cell_type": "code",
   "execution_count": 358,
   "metadata": {},
   "outputs": [
    {
     "data": {
      "text/plain": [
       "63.815252097720354"
      ]
     },
     "execution_count": 358,
     "metadata": {},
     "output_type": "execute_result"
    }
   ],
   "source": [
    "#Accuracy %\n",
    "#(TP + TN) / (TP + TN + FP + FN)\n",
    "\n",
    "((3347+5247)/(3347+3410+1463+5247))*100"
   ]
  },
  {
   "cell_type": "markdown",
   "metadata": {},
   "source": [
    "The predicted value is 63% accurate which is not considered very good. A score of 80% and above would have been acceptable in this scenario."
   ]
  },
  {
   "cell_type": "markdown",
   "metadata": {},
   "source": [
    "\n"
   ]
  },
  {
   "cell_type": "markdown",
   "metadata": {},
   "source": []
  }
 ],
 "metadata": {
  "kernelspec": {
   "display_name": "Python 3",
   "language": "python",
   "name": "python3"
  },
  "language_info": {
   "codemirror_mode": {
    "name": "ipython",
    "version": 3
   },
   "file_extension": ".py",
   "mimetype": "text/x-python",
   "name": "python",
   "nbconvert_exporter": "python",
   "pygments_lexer": "ipython3",
   "version": "3.7.0"
  }
 },
 "nbformat": 4,
 "nbformat_minor": 2
}
